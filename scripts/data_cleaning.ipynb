{
  "cells": [
    {
      "cell_type": "markdown",
      "metadata": {},
      "source": [
        "# 🧹 Limpieza de Datos - ZonaProp Scraper\n",
        "\n",
        "Este notebook limpia y procesa los datos scraped de ZonaProp paso a paso.\n",
        "\n",
        "**Objetivo**: Transformar los datos raw en un dataset limpio y estructurado para análisis."
      ]
    },
    {
      "cell_type": "markdown",
      "metadata": {},
      "source": [
        "## 📚 1. Importar Librerías"
      ]
    },
    {
      "cell_type": "code",
      "execution_count": 6,
      "metadata": {},
      "outputs": [
        {
          "name": "stdout",
          "output_type": "stream",
          "text": [
            "✅ Librerías importadas correctamente\n"
          ]
        }
      ],
      "source": [
        "import pandas as pd\n",
        "import numpy as np\n",
        "import re\n",
        "import warnings\n",
        "warnings.filterwarnings('ignore')\n",
        "\n",
        "print(\"✅ Librerías importadas correctamente\")"
      ]
    },
    {
      "cell_type": "markdown",
      "metadata": {},
      "source": [
        "## 📁 2. Cargar Datos Raw"
      ]
    },
    {
      "cell_type": "code",
      "execution_count": 7,
      "metadata": {},
      "outputs": [
        {
          "name": "stdout",
          "output_type": "stream",
          "text": [
            "📊 Dataset cargado: 30 propiedades\n",
            "📋 Columnas: ['titulo', 'precio', 'descripcion', 'ubicacion']\n",
            "💾 Tamaño: (30, 4)\n"
          ]
        },
        {
          "data": {
            "text/html": [
              "<div>\n",
              "<style scoped>\n",
              "    .dataframe tbody tr th:only-of-type {\n",
              "        vertical-align: middle;\n",
              "    }\n",
              "\n",
              "    .dataframe tbody tr th {\n",
              "        vertical-align: top;\n",
              "    }\n",
              "\n",
              "    .dataframe thead th {\n",
              "        text-align: right;\n",
              "    }\n",
              "</style>\n",
              "<table border=\"1\" class=\"dataframe\">\n",
              "  <thead>\n",
              "    <tr style=\"text-align: right;\">\n",
              "      <th></th>\n",
              "      <th>titulo</th>\n",
              "      <th>precio</th>\n",
              "      <th>descripcion</th>\n",
              "      <th>ubicacion</th>\n",
              "    </tr>\n",
              "  </thead>\n",
              "  <tbody>\n",
              "    <tr>\n",
              "      <th>0</th>\n",
              "      <td>102 m² tot.\\n4 amb.\\n2 dorm.\\n2 baños</td>\n",
              "      <td>$ 650.000</td>\n",
              "      <td>Inmobiliaria liprandi, te ofrece: Excelente de...</td>\n",
              "      <td>San Salvador, Córdoba</td>\n",
              "    </tr>\n",
              "    <tr>\n",
              "      <th>1</th>\n",
              "      <td>98 m² tot.\\n6 amb.\\n2 baños\\n1 coch.</td>\n",
              "      <td>$ 1.100.000</td>\n",
              "      <td>Grupo Seis Negocios Inmobiliarios alquila depa...</td>\n",
              "      <td>Villa Cabrera, Córdoba</td>\n",
              "    </tr>\n",
              "    <tr>\n",
              "      <th>2</th>\n",
              "      <td>50 m² tot.\\n2 amb.\\n1 dorm.\\n1 baño</td>\n",
              "      <td>$ 600.000</td>\n",
              "      <td>Carlota Montrasi Servicios Inmobiliarios te of...</td>\n",
              "      <td>Villa Carlos Paz, Córdoba</td>\n",
              "    </tr>\n",
              "  </tbody>\n",
              "</table>\n",
              "</div>"
            ],
            "text/plain": [
              "                                  titulo       precio  \\\n",
              "0  102 m² tot.\\n4 amb.\\n2 dorm.\\n2 baños    $ 650.000   \n",
              "1   98 m² tot.\\n6 amb.\\n2 baños\\n1 coch.  $ 1.100.000   \n",
              "2    50 m² tot.\\n2 amb.\\n1 dorm.\\n1 baño    $ 600.000   \n",
              "\n",
              "                                         descripcion  \\\n",
              "0  Inmobiliaria liprandi, te ofrece: Excelente de...   \n",
              "1  Grupo Seis Negocios Inmobiliarios alquila depa...   \n",
              "2  Carlota Montrasi Servicios Inmobiliarios te of...   \n",
              "\n",
              "                   ubicacion  \n",
              "0      San Salvador, Córdoba  \n",
              "1     Villa Cabrera, Córdoba  \n",
              "2  Villa Carlos Paz, Córdoba  "
            ]
          },
          "execution_count": 7,
          "metadata": {},
          "output_type": "execute_result"
        }
      ],
      "source": [
        "# Cargar datos raw\n",
        "df_raw = pd.read_csv(\"../data/zonaprop_raw.csv\")\n",
        "\n",
        "print(f\"📊 Dataset cargado: {len(df_raw)} propiedades\")\n",
        "print(f\"📋 Columnas: {list(df_raw.columns)}\")\n",
        "print(f\"💾 Tamaño: {df_raw.shape}\")\n",
        "\n",
        "# Vista previa\n",
        "df_raw.head(3)"
      ]
    },
    {
      "cell_type": "markdown",
      "metadata": {},
      "source": [
        "## 🔍 3. Exploración Inicial"
      ]
    },
    {
      "cell_type": "code",
      "execution_count": 8,
      "metadata": {},
      "outputs": [
        {
          "name": "stdout",
          "output_type": "stream",
          "text": [
            "📋 INFO GENERAL:\n",
            "Filas: 30\n",
            "Columnas: 4\n",
            "Valores nulos: 0\n",
            "\n",
            "🔎 VALORES NULOS POR COLUMNA:\n",
            "titulo         0\n",
            "precio         0\n",
            "descripcion    0\n",
            "ubicacion      0\n",
            "dtype: int64\n",
            "\n",
            "📏 TIPOS DE DATOS:\n",
            "titulo         object\n",
            "precio         object\n",
            "descripcion    object\n",
            "ubicacion      object\n",
            "dtype: object\n",
            "\n",
            "🏠 EJEMPLO DE TÍTULO CON FORMATO:\n",
            "Título original:\n",
            "'102 m² tot.\\n4 amb.\\n2 dorm.\\n2 baños'\n",
            "\n",
            "Título formateado:\n",
            "102 m² tot.\n",
            "4 amb.\n",
            "2 dorm.\n",
            "2 baños\n"
          ]
        }
      ],
      "source": [
        "# Información general\n",
        "print(\"📋 INFO GENERAL:\")\n",
        "print(f\"Filas: {len(df_raw)}\")\n",
        "print(f\"Columnas: {len(df_raw.columns)}\")\n",
        "print(f\"Valores nulos: {df_raw.isnull().sum().sum()}\")\n",
        "\n",
        "print(\"\\n🔎 VALORES NULOS POR COLUMNA:\")\n",
        "print(df_raw.isnull().sum())\n",
        "\n",
        "print(\"\\n📏 TIPOS DE DATOS:\")\n",
        "print(df_raw.dtypes)\n",
        "\n",
        "print(\"\\n🏠 EJEMPLO DE TÍTULO CON FORMATO:\")\n",
        "print(\"Título original:\")\n",
        "print(repr(df_raw['titulo'].iloc[0]))  # Ver formato exacto con \\n\n",
        "print(\"\\nTítulo formateado:\")\n",
        "print(df_raw['titulo'].iloc[0])  # Ver cómo se ve normalmente"
      ]
    },
    {
      "cell_type": "markdown",
      "metadata": {},
      "source": [
        "## 💰 4. Limpieza de Precios"
      ]
    },
    {
      "cell_type": "code",
      "execution_count": 9,
      "metadata": {},
      "outputs": [
        {
          "name": "stdout",
          "output_type": "stream",
          "text": [
            "🧹 ANTES vs DESPUÉS - PRECIOS:\n",
            "        precio  precio_numerico\n",
            "0    $ 650.000           650000\n",
            "1  $ 1.100.000          1100000\n",
            "2    $ 600.000           600000\n",
            "3    $ 500.000           500000\n",
            "4    $ 550.000           550000\n",
            "\n",
            "📊 ESTADÍSTICAS DE PRECIOS:\n",
            "count    3.000000e+01\n",
            "mean     6.628333e+05\n",
            "std      2.461976e+05\n",
            "min      3.200000e+05\n",
            "25%      5.000000e+05\n",
            "50%      6.000000e+05\n",
            "75%      7.725000e+05\n",
            "max      1.300000e+06\n",
            "Name: precio_numerico, dtype: float64\n"
          ]
        }
      ],
      "source": [
        "# Crear copia para trabajar\n",
        "df = df_raw.copy()\n",
        "\n",
        "def limpiar_precio(precio_str):\n",
        "    \"\"\"\n",
        "    Convierte string de precio a número\n",
        "    Ej: '$ 650.000' -> 650000\n",
        "    \"\"\"\n",
        "    if pd.isna(precio_str) or precio_str == \"Sin precio\":\n",
        "        return None\n",
        "    \n",
        "    # Remover $ y espacios, convertir puntos a nada\n",
        "    precio_limpio = re.sub(r'[^\\d]', '', str(precio_str))\n",
        "    \n",
        "    try:\n",
        "        return int(precio_limpio)\n",
        "    except:\n",
        "        return None\n",
        "\n",
        "# Aplicar limpieza\n",
        "df['precio_numerico'] = df['precio'].apply(limpiar_precio)\n",
        "\n",
        "print(\"🧹 ANTES vs DESPUÉS - PRECIOS:\")\n",
        "comparacion_precios = df[['precio', 'precio_numerico']].head(5)\n",
        "print(comparacion_precios)\n",
        "\n",
        "print(f\"\\n📊 ESTADÍSTICAS DE PRECIOS:\")\n",
        "print(df['precio_numerico'].describe())"
      ]
    },
    {
      "cell_type": "markdown",
      "metadata": {},
      "source": [
        "## 🏠 5. Extracción de Características del Título"
      ]
    },
    {
      "cell_type": "code",
      "execution_count": 10,
      "metadata": {},
      "outputs": [
        {
          "name": "stdout",
          "output_type": "stream",
          "text": [
            "🔍 Extrayendo características del título...\n",
            "✅ Características extraídas correctamente!\n",
            "\n",
            "🔍 EJEMPLOS DE EXTRACCIÓN:\n",
            "\n",
            "1. Título original:\n",
            "   102 m² tot. | 4 amb. | 2 dorm. | 2 baños\n",
            "   📐 102m² | 🏠 4.0 amb | 🛏️ 2.0 dorm | 🚿 2 baños | 🚗 0 coch\n",
            "\n",
            "2. Título original:\n",
            "   98 m² tot. | 6 amb. | 2 baños | 1 coch.\n",
            "   📐 98m² | 🏠 6.0 amb | 🛏️ nan dorm | 🚿 2 baños | 🚗 1 coch\n",
            "\n",
            "3. Título original:\n",
            "   50 m² tot. | 2 amb. | 1 dorm. | 1 baño\n",
            "   📐 50m² | 🏠 2.0 amb | 🛏️ 1.0 dorm | 🚿 1 baños | 🚗 0 coch\n",
            "\n",
            "📊 COMPLETITUD DE EXTRACCIÓN:\n",
            "metros_cuadrados: 30/30 (100.0%)\n",
            "ambientes: 29/30 (96.7%)\n",
            "dormitorios: 29/30 (96.7%)\n",
            "banos: 30/30 (100.0%)\n",
            "cocheras: 30/30 (100.0%)\n"
          ]
        }
      ],
      "source": [
        "def extraer_caracteristicas(titulo):\n",
        "    \"\"\"\n",
        "    Extrae metros cuadrados, ambientes, dormitorios, baños y cocheras del título\n",
        "    Formato esperado: '102 m² tot.\\n4 amb.\\n2 dorm.\\n2 baños'\n",
        "    \"\"\"\n",
        "    if pd.isna(titulo):\n",
        "        return None, None, None, None, None\n",
        "    \n",
        "    titulo_str = str(titulo)\n",
        "    \n",
        "    # Metros cuadrados (ej: \"102 m² tot.\")\n",
        "    metros_match = re.search(r'(\\d+)\\s*m²', titulo_str)\n",
        "    metros = int(metros_match.group(1)) if metros_match else None\n",
        "    \n",
        "    # Ambientes (ej: \"4 amb.\")\n",
        "    amb_match = re.search(r'(\\d+)\\s*amb', titulo_str)\n",
        "    ambientes = int(amb_match.group(1)) if amb_match else None\n",
        "    \n",
        "    # Dormitorios (ej: \"2 dorm.\")\n",
        "    dorm_match = re.search(r'(\\d+)\\s*dorm', titulo_str)\n",
        "    dormitorios = int(dorm_match.group(1)) if dorm_match else None\n",
        "    \n",
        "    # Baños (ej: \"2 baños\")\n",
        "    bano_match = re.search(r'(\\d+)\\s*baño', titulo_str)\n",
        "    banos = int(bano_match.group(1)) if bano_match else None\n",
        "    \n",
        "    # Cocheras (ej: \"1 coch.\")\n",
        "    coch_match = re.search(r'(\\d+)\\s*coch', titulo_str)\n",
        "    cocheras = int(coch_match.group(1)) if coch_match else 0\n",
        "    \n",
        "    return metros, ambientes, dormitorios, banos, cocheras\n",
        "\n",
        "# Aplicar extracción\n",
        "print(\"🔍 Extrayendo características del título...\")\n",
        "caracteristicas = df['titulo'].apply(extraer_caracteristicas)\n",
        "\n",
        "# Crear columnas separadas\n",
        "df['metros_cuadrados'] = [x[0] for x in caracteristicas]\n",
        "df['ambientes'] = [x[1] for x in caracteristicas]\n",
        "df['dormitorios'] = [x[2] for x in caracteristicas]\n",
        "df['banos'] = [x[3] for x in caracteristicas]\n",
        "df['cocheras'] = [x[4] for x in caracteristicas]\n",
        "\n",
        "print(\"✅ Características extraídas correctamente!\")\n",
        "\n",
        "# Mostrar ejemplos de extracción\n",
        "print(\"\\n🔍 EJEMPLOS DE EXTRACCIÓN:\")\n",
        "ejemplo = df[['titulo', 'metros_cuadrados', 'ambientes', 'dormitorios', 'banos', 'cocheras']].head(3)\n",
        "for idx, row in ejemplo.iterrows():\n",
        "    print(f\"\\n{idx+1}. Título original:\")\n",
        "    # Mostrar título con saltos de línea reemplazados por | para mayor claridad\n",
        "    titulo_visual = row['titulo'].replace('\\n', ' | ')\n",
        "    print(f\"   {titulo_visual}\")\n",
        "    print(f\"   📐 {row['metros_cuadrados']}m² | 🏠 {row['ambientes']} amb | 🛏️ {row['dormitorios']} dorm | 🚿 {row['banos']} baños | 🚗 {row['cocheras']} coch\")\n",
        "\n",
        "# Resumen de completitud\n",
        "print(\"\\n📊 COMPLETITUD DE EXTRACCIÓN:\")\n",
        "caracteristicas_cols = ['metros_cuadrados', 'ambientes', 'dormitorios', 'banos', 'cocheras']\n",
        "for col in caracteristicas_cols:\n",
        "    completitud = df[col].notna().sum()\n",
        "    porcentaje = completitud / len(df) * 100\n",
        "    print(f\"{col}: {completitud}/{len(df)} ({porcentaje:.1f}%)\")"
      ]
    },
    {
      "cell_type": "markdown",
      "metadata": {},
      "source": [
        "## 📍 6. Procesamiento de Ubicaciones"
      ]
    },
    {
      "cell_type": "code",
      "execution_count": 11,
      "metadata": {},
      "outputs": [
        {
          "name": "stdout",
          "output_type": "stream",
          "text": [
            "📍 UBICACIONES PROCESADAS:\n",
            "Barrios únicos: 14\n",
            "Ciudades únicas: 3\n",
            "\n",
            "🏘️ TOP 10 BARRIOS MÁS FRECUENTES:\n",
            "barrio\n",
            "Nueva Córdoba       9\n",
            "General Paz         5\n",
            "Alto Alberdi        2\n",
            "Córdoba             2\n",
            "Manantiales         2\n",
            "Centro              2\n",
            "Villa Carlos Paz    1\n",
            "Villa Cabrera       1\n",
            "San Salvador        1\n",
            "Don Bosco           1\n",
            "Name: count, dtype: int64\n",
            "\n",
            "🏙️ DISTRIBUCIÓN POR CIUDAD:\n",
            "ciudad\n",
            "Córdoba            28\n",
            "Valle Escondido     1\n",
            "Villa Allende       1\n",
            "Name: count, dtype: int64\n"
          ]
        }
      ],
      "source": [
        "# Separar barrio y ciudad de la ubicación\n",
        "df['barrio'] = df['ubicacion'].str.split(',').str[0].str.strip()\n",
        "df['ciudad'] = df['ubicacion'].str.split(',').str[1].str.strip().fillna('Córdoba')\n",
        "\n",
        "print(\"📍 UBICACIONES PROCESADAS:\")\n",
        "print(f\"Barrios únicos: {df['barrio'].nunique()}\")\n",
        "print(f\"Ciudades únicas: {df['ciudad'].nunique()}\")\n",
        "\n",
        "print(\"\\n🏘️ TOP 10 BARRIOS MÁS FRECUENTES:\")\n",
        "print(df['barrio'].value_counts().head(10))\n",
        "\n",
        "print(\"\\n🏙️ DISTRIBUCIÓN POR CIUDAD:\")\n",
        "print(df['ciudad'].value_counts())"
      ]
    },
    {
      "cell_type": "markdown",
      "metadata": {},
      "source": [
        "## 💡 7. Variables Derivadas"
      ]
    },
    {
      "cell_type": "code",
      "execution_count": 12,
      "metadata": {},
      "outputs": [
        {
          "name": "stdout",
          "output_type": "stream",
          "text": [
            "💡 VARIABLES DERIVADAS CREADAS:\n",
            "✅ precio_por_m2: Promedio $10156/m²\n",
            "✅ categoria_precio: {'Medio': 17, 'Alto': 6, 'Económico': 6, 'Premium': 1}\n",
            "✅ categoria_tamano: {'Pequeño': 11, 'Grande': 8, 'Mediano': 8, 'Muy grande': 3}\n"
          ]
        }
      ],
      "source": [
        "# Crear precio por metro cuadrado\n",
        "df['precio_por_m2'] = df['precio_numerico'] / df['metros_cuadrados']\n",
        "\n",
        "# Categorizar precios\n",
        "def categorizar_precio(precio):\n",
        "    if pd.isna(precio):\n",
        "        return \"Sin datos\"\n",
        "    elif precio < 500000:\n",
        "        return \"Económico\"\n",
        "    elif precio < 800000:\n",
        "        return \"Medio\"\n",
        "    elif precio < 1200000:\n",
        "        return \"Alto\"\n",
        "    else:\n",
        "        return \"Premium\"\n",
        "\n",
        "df['categoria_precio'] = df['precio_numerico'].apply(categorizar_precio)\n",
        "\n",
        "# Categorizar tamaños\n",
        "def categorizar_tamano(metros):\n",
        "    if pd.isna(metros):\n",
        "        return \"Sin datos\"\n",
        "    elif metros < 50:\n",
        "        return \"Pequeño\"\n",
        "    elif metros < 80:\n",
        "        return \"Mediano\"\n",
        "    elif metros < 120:\n",
        "        return \"Grande\"\n",
        "    else:\n",
        "        return \"Muy grande\"\n",
        "\n",
        "df['categoria_tamano'] = df['metros_cuadrados'].apply(categorizar_tamano)\n",
        "\n",
        "print(\"💡 VARIABLES DERIVADAS CREADAS:\")\n",
        "print(f\"✅ precio_por_m2: Promedio ${df['precio_por_m2'].mean():.0f}/m²\")\n",
        "print(f\"✅ categoria_precio: {df['categoria_precio'].value_counts().to_dict()}\")\n",
        "print(f\"✅ categoria_tamano: {df['categoria_tamano'].value_counts().to_dict()}\")"
      ]
    },
    {
      "cell_type": "markdown",
      "metadata": {},
      "source": [
        "## 💾 8. Guardar Dataset Limpio"
      ]
    },
    {
      "cell_type": "code",
      "execution_count": 13,
      "metadata": {},
      "outputs": [
        {
          "name": "stdout",
          "output_type": "stream",
          "text": [
            "✅ Dataset limpio guardado en: ../data/zonaprop_clean.csv\n",
            "📊 Propiedades guardadas: 30\n",
            "📋 Columnas guardadas: 13\n",
            "\n",
            "🎉 ¡LIMPIEZA DE DATOS COMPLETADA!\n",
            "\n",
            "📊 RESUMEN ESTADÍSTICO:\n",
            "       precio_numerico  precio_por_m2  metros_cuadrados  ambientes  \\\n",
            "count     3.000000e+01      30.000000         30.000000  29.000000   \n",
            "mean      6.628333e+05   10156.406747         71.066667   2.758621   \n",
            "std       2.461976e+05    3572.893031         34.826598   1.353703   \n",
            "min       3.200000e+05    4473.684211         40.000000   2.000000   \n",
            "25%       5.000000e+05    7506.105834         45.000000   2.000000   \n",
            "50%       6.000000e+05   10185.185185         54.500000   2.000000   \n",
            "75%       7.725000e+05   11916.666667         90.000000   3.000000   \n",
            "max       1.300000e+06   22222.222222        190.000000   8.000000   \n",
            "\n",
            "       dormitorios  \n",
            "count    29.000000  \n",
            "mean      1.448276  \n",
            "std       0.506120  \n",
            "min       1.000000  \n",
            "25%       1.000000  \n",
            "50%       1.000000  \n",
            "75%       2.000000  \n",
            "max       2.000000  \n",
            "\n",
            "🏷️ DISTRIBUCIÓN POR CATEGORÍA:\n",
            "Precios:\n",
            "categoria_precio\n",
            "Medio        17\n",
            "Alto          6\n",
            "Económico     6\n",
            "Premium       1\n",
            "Name: count, dtype: int64\n",
            "\n",
            "Tamaños:\n",
            "categoria_tamano\n",
            "Pequeño       11\n",
            "Grande         8\n",
            "Mediano        8\n",
            "Muy grande     3\n",
            "Name: count, dtype: int64\n",
            "\n",
            "👀 VISTA PREVIA DEL DATASET LIMPIO:\n",
            "   precio_numerico  metros_cuadrados  ambientes  dormitorios  banos  \\\n",
            "0           650000               102        4.0          2.0      2   \n",
            "1          1100000                98        6.0          NaN      2   \n",
            "2           600000                50        2.0          1.0      1   \n",
            "3           500000                50        2.0          1.0      1   \n",
            "4           550000                90        3.0          2.0      1   \n",
            "\n",
            "             barrio  \n",
            "0      San Salvador  \n",
            "1     Villa Cabrera  \n",
            "2  Villa Carlos Paz  \n",
            "3     Nueva Córdoba  \n",
            "4      Alto Alberdi  \n"
          ]
        }
      ],
      "source": [
        "# Seleccionar columnas importantes para el dataset final\n",
        "columnas_finales = [\n",
        "    'titulo', 'precio_numerico', 'precio_por_m2', 'categoria_precio',\n",
        "    'metros_cuadrados', 'categoria_tamano', 'ambientes', 'dormitorios', \n",
        "    'banos', 'cocheras', 'barrio', 'ciudad', 'descripcion'\n",
        "]\n",
        "\n",
        "# Filtrar datos válidos (con precio y metros cuadrados)\n",
        "df_final = df[columnas_finales].dropna(subset=['precio_numerico', 'metros_cuadrados'])\n",
        "\n",
        "# Guardar dataset limpio\n",
        "output_path = \"../data/zonaprop_clean.csv\"\n",
        "df_final.to_csv(output_path, index=False, encoding='utf-8')\n",
        "\n",
        "print(f\"✅ Dataset limpio guardado en: {output_path}\")\n",
        "print(f\"📊 Propiedades guardadas: {len(df_final)}\")\n",
        "print(f\"📋 Columnas guardadas: {len(df_final.columns)}\")\n",
        "print(\"\\n🎉 ¡LIMPIEZA DE DATOS COMPLETADA!\")\n",
        "\n",
        "# Mostrar resumen estadístico\n",
        "print(\"\\n📊 RESUMEN ESTADÍSTICO:\")\n",
        "estadisticas = df_final[['precio_numerico', 'precio_por_m2', 'metros_cuadrados', 'ambientes', 'dormitorios']].describe()\n",
        "print(estadisticas)\n",
        "\n",
        "print(\"\\n🏷️ DISTRIBUCIÓN POR CATEGORÍA:\")\n",
        "print(\"Precios:\")\n",
        "print(df_final['categoria_precio'].value_counts())\n",
        "print(\"\\nTamaños:\")\n",
        "print(df_final['categoria_tamano'].value_counts())\n",
        "\n",
        "# Vista previa del dataset final\n",
        "print(\"\\n👀 VISTA PREVIA DEL DATASET LIMPIO:\")\n",
        "preview_cols = ['precio_numerico', 'metros_cuadrados', 'ambientes', 'dormitorios', 'banos', 'barrio']\n",
        "print(df_final[preview_cols].head())"
      ]
    }
  ],
  "metadata": {
    "kernelspec": {
      "display_name": "zp_scrapper",
      "language": "python",
      "name": "python3"
    },
    "language_info": {
      "codemirror_mode": {
        "name": "ipython",
        "version": 3
      },
      "file_extension": ".py",
      "mimetype": "text/x-python",
      "name": "python",
      "nbconvert_exporter": "python",
      "pygments_lexer": "ipython3",
      "version": "3.13.3"
    }
  },
  "nbformat": 4,
  "nbformat_minor": 2
}
